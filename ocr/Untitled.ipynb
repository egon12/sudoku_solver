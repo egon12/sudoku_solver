{
 "cells": [
  {
   "cell_type": "code",
   "execution_count": 1,
   "id": "1d223ba4",
   "metadata": {},
   "outputs": [
    {
     "name": "stderr",
     "output_type": "stream",
     "text": [
      "Fontconfig warning: ignoring UTF-8: not a valid region tag\n"
     ]
    }
   ],
   "source": [
    "import tensorflow as tf\n",
    "import numpy as np\n",
    "from PIL import Image\n",
    "import matplotlib.pyplot as plt"
   ]
  },
  {
   "cell_type": "code",
   "execution_count": 13,
   "id": "2f3cd8ea",
   "metadata": {},
   "outputs": [],
   "source": [
    "def loadimage(name):\n",
    "    res = []\n",
    "    for y in range(9):\n",
    "        for x in range(9):\n",
    "            n = name + \"_\" + str(y) + str(x) + \".png\"\n",
    "            res.append(oneimg(n))\n",
    "    return np.array(res)\n",
    "\n",
    "def loadclass(name):\n",
    "    d = np.loadtxt(name + \".class.txt\", delimiter=\";\", dtype=\"U9\")\n",
    "    d = np.array(d[:,1], dtype=np.uint8)\n",
    "    return d\n",
    "\n",
    "def oneimg(path):\n",
    "    img = Image.open(path).convert('L')\n",
    "    img = img.resize((28, 28))\n",
    "    img = np.array(img)\n",
    "    img = img.astype(np.float32)\n",
    "    img = np.multiply(img, 1.0 / 255.0)\n",
    "    return img\n"
   ]
  },
  {
   "cell_type": "code",
   "execution_count": 14,
   "id": "a3f30a6d",
   "metadata": {},
   "outputs": [],
   "source": [
    "x_train = loadimage(\"img01\")\n",
    "y_train = loadclass(\"img01\")\n",
    "\n",
    "for i in range(1, 11):\n",
    "    num = str(i).rjust(2, '0')\n",
    "    name = \"img\" + num\n",
    "    x = loadimage(name)\n",
    "    y = loadclass(name)\n",
    "    x_train = np.concatenate((x_train, x))\n",
    "    y_train = np.concatenate((y_train, y))\n"
   ]
  },
  {
   "cell_type": "code",
   "execution_count": 15,
   "id": "752f7c3a",
   "metadata": {},
   "outputs": [
    {
     "data": {
      "text/plain": [
       "891"
      ]
     },
     "execution_count": 15,
     "metadata": {},
     "output_type": "execute_result"
    }
   ],
   "source": [
    "len(x_train)\n"
   ]
  },
  {
   "cell_type": "code",
   "execution_count": 17,
   "id": "e301590a",
   "metadata": {},
   "outputs": [
    {
     "data": {
      "image/png": "[encoded data removed]",
      "text/plain": [
       "<Figure size 640x480 with 1 Axes>"
      ]
     },
     "metadata": {},
     "output_type": "display_data"
    },
    {
     "name": "stdout",
     "output_type": "stream",
     "text": [
      "2\n"
     ]
    }
   ],
   "source": [
    "n = 1\n",
    "\n",
    "plt.figure()\n",
    "plt.imshow(x_train[n])\n",
    "plt.show()\n",
    "print(y_train[n])"
   ]
  },
  {
   "cell_type": "code",
   "execution_count": 18,
   "id": "12a70cc4",
   "metadata": {},
   "outputs": [],
   "source": [
    "model = tf.keras.models.Sequential([\n",
    "    tf.keras.layers.Flatten(input_shape=(28,28)),\n",
    "    tf.keras.layers.Dense(784, activation='relu'),\n",
    "    tf.keras.layers.Dropout(0.2),\n",
    "    tf.keras.layers.Dense(128, activation='relu'),\n",
    "    tf.keras.layers.Dropout(0.2),\n",
    "    tf.keras.layers.Dense(64, activation='relu'),\n",
    "    tf.keras.layers.Dropout(0.2),\n",
    "    tf.keras.layers.Dense(10),\n",
    "])\n",
    "\n",
    "predictions = model(x_train[:1]).numpy()\n",
    "\n",
    "loss_fn = tf.keras.losses.SparseCategoricalCrossentropy(from_logits=True)\n",
    "\n",
    "loss_fn(y_train[:1], predictions).numpy()\n",
    "\n",
    "model.compile(optimizer='adam', loss=loss_fn, metrics=['accuracy'])\n",
    "\n",
    "\n"
   ]
  },
  {
   "cell_type": "code",
   "execution_count": 21,
   "id": "eb269df9",
   "metadata": {},
   "outputs": [
    {
     "name": "stdout",
     "output_type": "stream",
     "text": [
      "Epoch 1/100\n",
      "28/28 [==============================] - 0s 2ms/step - loss: 0.4716 - accuracy: 0.8350\n",
      "Epoch 2/100\n",
      "28/28 [==============================] - 0s 2ms/step - loss: 0.4686 - accuracy: 0.8159\n",
      "Epoch 3/100\n",
      "28/28 [==============================] - 0s 2ms/step - loss: 0.4356 - accuracy: 0.8339\n",
      "Epoch 4/100\n",
      "28/28 [==============================] - 0s 2ms/step - loss: 0.4808 - accuracy: 0.8159\n",
      "Epoch 5/100\n",
      "28/28 [==============================] - 0s 2ms/step - loss: 0.4800 - accuracy: 0.8092\n",
      "Epoch 6/100\n",
      "28/28 [==============================] - 0s 2ms/step - loss: 0.4156 - accuracy: 0.8418\n",
      "Epoch 7/100\n",
      "28/28 [==============================] - 0s 2ms/step - loss: 0.4351 - accuracy: 0.8249\n",
      "Epoch 8/100\n",
      "28/28 [==============================] - 0s 2ms/step - loss: 0.4274 - accuracy: 0.8339\n",
      "Epoch 9/100\n",
      "28/28 [==============================] - 0s 2ms/step - loss: 0.4393 - accuracy: 0.8350\n",
      "Epoch 10/100\n",
      "28/28 [==============================] - 0s 2ms/step - loss: 0.3462 - accuracy: 0.8822\n",
      "Epoch 11/100\n",
      "28/28 [==============================] - 0s 2ms/step - loss: 0.3322 - accuracy: 0.8900\n",
      "Epoch 12/100\n",
      "28/28 [==============================] - 0s 2ms/step - loss: 0.3663 - accuracy: 0.8653\n",
      "Epoch 13/100\n",
      "28/28 [==============================] - 0s 2ms/step - loss: 0.3548 - accuracy: 0.8732\n",
      "Epoch 14/100\n",
      "28/28 [==============================] - 0s 2ms/step - loss: 0.3464 - accuracy: 0.8833\n",
      "Epoch 15/100\n",
      "28/28 [==============================] - 0s 2ms/step - loss: 0.3020 - accuracy: 0.8967\n",
      "Epoch 16/100\n",
      "28/28 [==============================] - 0s 2ms/step - loss: 0.2995 - accuracy: 0.8788\n",
      "Epoch 17/100\n",
      "28/28 [==============================] - 0s 2ms/step - loss: 0.3212 - accuracy: 0.8866\n",
      "Epoch 18/100\n",
      "28/28 [==============================] - 0s 2ms/step - loss: 0.2753 - accuracy: 0.9147\n",
      "Epoch 19/100\n",
      "28/28 [==============================] - 0s 2ms/step - loss: 0.3271 - accuracy: 0.8900\n",
      "Epoch 20/100\n",
      "28/28 [==============================] - 0s 2ms/step - loss: 0.3017 - accuracy: 0.9080\n",
      "Epoch 21/100\n",
      "28/28 [==============================] - 0s 2ms/step - loss: 0.3070 - accuracy: 0.8945\n",
      "Epoch 22/100\n",
      "28/28 [==============================] - 0s 2ms/step - loss: 0.3012 - accuracy: 0.9035\n",
      "Epoch 23/100\n",
      "28/28 [==============================] - 0s 2ms/step - loss: 0.3053 - accuracy: 0.8956\n",
      "Epoch 24/100\n",
      "28/28 [==============================] - 0s 2ms/step - loss: 0.3668 - accuracy: 0.8642\n",
      "Epoch 25/100\n",
      "28/28 [==============================] - 0s 2ms/step - loss: 0.4262 - accuracy: 0.8339\n",
      "Epoch 26/100\n",
      "28/28 [==============================] - 0s 2ms/step - loss: 0.3819 - accuracy: 0.8541\n",
      "Epoch 27/100\n",
      "28/28 [==============================] - 0s 2ms/step - loss: 0.3441 - accuracy: 0.8799\n",
      "Epoch 28/100\n",
      "28/28 [==============================] - 0s 2ms/step - loss: 0.3578 - accuracy: 0.8833\n",
      "Epoch 29/100\n",
      "28/28 [==============================] - 0s 2ms/step - loss: 0.3113 - accuracy: 0.9035\n",
      "Epoch 30/100\n",
      "28/28 [==============================] - 0s 2ms/step - loss: 0.2561 - accuracy: 0.9136\n",
      "Epoch 31/100\n",
      "28/28 [==============================] - 0s 2ms/step - loss: 0.3049 - accuracy: 0.9001\n",
      "Epoch 32/100\n",
      "28/28 [==============================] - 0s 2ms/step - loss: 0.2938 - accuracy: 0.8967\n",
      "Epoch 33/100\n",
      "28/28 [==============================] - 0s 2ms/step - loss: 0.2966 - accuracy: 0.8990\n",
      "Epoch 34/100\n",
      "28/28 [==============================] - 0s 2ms/step - loss: 0.2929 - accuracy: 0.9136\n",
      "Epoch 35/100\n",
      "28/28 [==============================] - 0s 2ms/step - loss: 0.3256 - accuracy: 0.8822\n",
      "Epoch 36/100\n",
      "28/28 [==============================] - 0s 2ms/step - loss: 0.2530 - accuracy: 0.9136\n",
      "Epoch 37/100\n",
      "28/28 [==============================] - 0s 2ms/step - loss: 0.2551 - accuracy: 0.9181\n",
      "Epoch 38/100\n",
      "28/28 [==============================] - 0s 2ms/step - loss: 0.2710 - accuracy: 0.9214\n",
      "Epoch 39/100\n",
      "28/28 [==============================] - 0s 2ms/step - loss: 0.2475 - accuracy: 0.9125\n",
      "Epoch 40/100\n",
      "28/28 [==============================] - 0s 2ms/step - loss: 0.2637 - accuracy: 0.9226\n",
      "Epoch 41/100\n",
      "28/28 [==============================] - 0s 2ms/step - loss: 0.2923 - accuracy: 0.8979\n",
      "Epoch 42/100\n",
      "28/28 [==============================] - 0s 2ms/step - loss: 0.2281 - accuracy: 0.9282\n",
      "Epoch 43/100\n",
      "28/28 [==============================] - 0s 2ms/step - loss: 0.2410 - accuracy: 0.9349\n",
      "Epoch 44/100\n",
      "28/28 [==============================] - 0s 2ms/step - loss: 0.2586 - accuracy: 0.9181\n",
      "Epoch 45/100\n",
      "28/28 [==============================] - 0s 4ms/step - loss: 0.2886 - accuracy: 0.8945\n",
      "Epoch 46/100\n",
      "28/28 [==============================] - 0s 2ms/step - loss: 0.2935 - accuracy: 0.8934\n",
      "Epoch 47/100\n",
      "28/28 [==============================] - 0s 2ms/step - loss: 0.2302 - accuracy: 0.9304\n",
      "Epoch 48/100\n",
      "28/28 [==============================] - 0s 2ms/step - loss: 0.2228 - accuracy: 0.9237\n",
      "Epoch 49/100\n",
      "28/28 [==============================] - 0s 2ms/step - loss: 0.1829 - accuracy: 0.9450\n",
      "Epoch 50/100\n",
      "28/28 [==============================] - 0s 2ms/step - loss: 0.2432 - accuracy: 0.9192\n",
      "Epoch 51/100\n",
      "28/28 [==============================] - 0s 2ms/step - loss: 0.2235 - accuracy: 0.9226\n",
      "Epoch 52/100\n",
      "28/28 [==============================] - 0s 2ms/step - loss: 0.1983 - accuracy: 0.9349\n",
      "Epoch 53/100\n",
      "28/28 [==============================] - 0s 2ms/step - loss: 0.1846 - accuracy: 0.9383\n",
      "Epoch 54/100\n",
      "28/28 [==============================] - 0s 2ms/step - loss: 0.2275 - accuracy: 0.9270\n",
      "Epoch 55/100\n",
      "28/28 [==============================] - 0s 2ms/step - loss: 0.2449 - accuracy: 0.9181\n",
      "Epoch 56/100\n",
      "28/28 [==============================] - 0s 2ms/step - loss: 0.3406 - accuracy: 0.8754\n",
      "Epoch 57/100\n",
      "28/28 [==============================] - 0s 2ms/step - loss: 0.2795 - accuracy: 0.9102\n",
      "Epoch 58/100\n",
      "28/28 [==============================] - 0s 2ms/step - loss: 0.3864 - accuracy: 0.8754\n",
      "Epoch 59/100\n",
      "28/28 [==============================] - 0s 2ms/step - loss: 0.2780 - accuracy: 0.9214\n",
      "Epoch 60/100\n",
      "28/28 [==============================] - 0s 2ms/step - loss: 0.3170 - accuracy: 0.8979\n",
      "Epoch 61/100\n",
      "28/28 [==============================] - 0s 2ms/step - loss: 0.3975 - accuracy: 0.8844\n",
      "Epoch 62/100\n",
      "28/28 [==============================] - 0s 2ms/step - loss: 0.3970 - accuracy: 0.8721\n",
      "Epoch 63/100\n",
      "28/28 [==============================] - 0s 2ms/step - loss: 0.2415 - accuracy: 0.9259\n",
      "Epoch 64/100\n",
      "28/28 [==============================] - 0s 2ms/step - loss: 0.2275 - accuracy: 0.9327\n",
      "Epoch 65/100\n",
      "28/28 [==============================] - 0s 2ms/step - loss: 0.2178 - accuracy: 0.9450\n",
      "Epoch 66/100\n",
      "28/28 [==============================] - 0s 2ms/step - loss: 0.2695 - accuracy: 0.9125\n",
      "Epoch 67/100\n",
      "28/28 [==============================] - 0s 2ms/step - loss: 0.2691 - accuracy: 0.9125\n",
      "Epoch 68/100\n",
      "28/28 [==============================] - 0s 2ms/step - loss: 0.3042 - accuracy: 0.9035\n",
      "Epoch 69/100\n",
      "28/28 [==============================] - 0s 2ms/step - loss: 0.2788 - accuracy: 0.9113\n",
      "Epoch 70/100\n",
      "28/28 [==============================] - 0s 2ms/step - loss: 0.3125 - accuracy: 0.8979\n",
      "Epoch 71/100\n",
      "28/28 [==============================] - 0s 2ms/step - loss: 0.2920 - accuracy: 0.8866\n",
      "Epoch 72/100\n",
      "28/28 [==============================] - 0s 2ms/step - loss: 0.3033 - accuracy: 0.8956\n",
      "Epoch 73/100\n",
      "28/28 [==============================] - 0s 2ms/step - loss: 0.3305 - accuracy: 0.8911\n",
      "Epoch 74/100\n",
      "28/28 [==============================] - 0s 2ms/step - loss: 0.3122 - accuracy: 0.9046\n",
      "Epoch 75/100\n",
      "28/28 [==============================] - 0s 2ms/step - loss: 0.3091 - accuracy: 0.9068\n",
      "Epoch 76/100\n",
      "28/28 [==============================] - 0s 2ms/step - loss: 0.2768 - accuracy: 0.9113\n",
      "Epoch 77/100\n",
      "28/28 [==============================] - 0s 2ms/step - loss: 0.3825 - accuracy: 0.8810\n",
      "Epoch 78/100\n",
      "28/28 [==============================] - 0s 2ms/step - loss: 0.3731 - accuracy: 0.8743\n",
      "Epoch 79/100\n",
      "28/28 [==============================] - 0s 2ms/step - loss: 0.3200 - accuracy: 0.8945\n",
      "Epoch 80/100\n",
      "28/28 [==============================] - 0s 2ms/step - loss: 0.3443 - accuracy: 0.8855\n",
      "Epoch 81/100\n",
      "28/28 [==============================] - 0s 2ms/step - loss: 0.3584 - accuracy: 0.8878\n",
      "Epoch 82/100\n",
      "28/28 [==============================] - 0s 2ms/step - loss: 0.3398 - accuracy: 0.8810\n",
      "Epoch 83/100\n"
     ]
    },
    {
     "name": "stdout",
     "output_type": "stream",
     "text": [
      "28/28 [==============================] - 0s 2ms/step - loss: 0.2900 - accuracy: 0.9259\n",
      "Epoch 84/100\n",
      "28/28 [==============================] - 0s 2ms/step - loss: 0.2461 - accuracy: 0.9282\n",
      "Epoch 85/100\n",
      "28/28 [==============================] - 0s 2ms/step - loss: 0.2364 - accuracy: 0.9203\n",
      "Epoch 86/100\n",
      "28/28 [==============================] - 0s 2ms/step - loss: 0.2618 - accuracy: 0.9181\n",
      "Epoch 87/100\n",
      "28/28 [==============================] - 0s 2ms/step - loss: 0.2602 - accuracy: 0.9203\n",
      "Epoch 88/100\n",
      "28/28 [==============================] - 0s 2ms/step - loss: 0.3240 - accuracy: 0.8923\n",
      "Epoch 89/100\n",
      "28/28 [==============================] - 0s 2ms/step - loss: 0.2529 - accuracy: 0.9125\n",
      "Epoch 90/100\n",
      "28/28 [==============================] - 0s 2ms/step - loss: 0.2626 - accuracy: 0.9226\n",
      "Epoch 91/100\n",
      "28/28 [==============================] - 0s 2ms/step - loss: 0.2574 - accuracy: 0.9158\n",
      "Epoch 92/100\n",
      "28/28 [==============================] - 0s 2ms/step - loss: 0.2348 - accuracy: 0.9315\n",
      "Epoch 93/100\n",
      "28/28 [==============================] - 0s 2ms/step - loss: 0.2967 - accuracy: 0.9102\n",
      "Epoch 94/100\n",
      "28/28 [==============================] - 0s 2ms/step - loss: 0.3213 - accuracy: 0.8923\n",
      "Epoch 95/100\n",
      "28/28 [==============================] - 0s 2ms/step - loss: 0.3998 - accuracy: 0.8653\n",
      "Epoch 96/100\n",
      "28/28 [==============================] - 0s 2ms/step - loss: 0.3383 - accuracy: 0.8822\n",
      "Epoch 97/100\n",
      "28/28 [==============================] - 0s 2ms/step - loss: 0.2807 - accuracy: 0.9001\n",
      "Epoch 98/100\n",
      "28/28 [==============================] - 0s 2ms/step - loss: 0.2607 - accuracy: 0.9259\n",
      "Epoch 99/100\n",
      "28/28 [==============================] - 0s 2ms/step - loss: 0.2394 - accuracy: 0.9315\n",
      "Epoch 100/100\n",
      "28/28 [==============================] - 0s 2ms/step - loss: 0.2529 - accuracy: 0.9226\n"
     ]
    },
    {
     "data": {
      "text/plain": [
       "<keras.callbacks.History at 0x28a72ab30>"
      ]
     },
     "execution_count": 21,
     "metadata": {},
     "output_type": "execute_result"
    }
   ],
   "source": [
    "model.fit(x_train, y_train, epochs=100)"
   ]
  },
  {
   "cell_type": "code",
   "execution_count": 22,
   "id": "05243c63",
   "metadata": {},
   "outputs": [
    {
     "name": "stdout",
     "output_type": "stream",
     "text": [
      "28/28 [==============================] - 0s 808us/step\n"
     ]
    },
    {
     "data": {
      "text/plain": [
       "array([0, 2, 6, 0, 0, 0, 0, 0, 1, 0, 4, 5, 0, 7, 1, 0, 0, 0, 8, 0, 1, 0,\n",
       "       0, 6, 0, 7, 0, 0, 0, 0, 1, 3, 2, 6, 8, 0, 5, 3, 8, 0, 0, 0, 0, 1,\n",
       "       9, 0, 0, 0, 0, 0, 0, 7, 0, 4, 0, 0, 0, 0, 2, 7, 0, 6, 8, 0, 8, 0,\n",
       "       9, 1, 5, 0, 0, 2, 0, 5, 0, 6, 8, 3, 0, 9, 7, 0, 2, 6, 0, 0, 0, 0,\n",
       "       0, 1, 0, 4, 5, 0, 7, 1, 0, 0, 0, 8, 0, 1, 0, 0, 6, 0, 7, 0, 0, 0,\n",
       "       0, 1, 3, 2, 6, 8, 0, 5, 3, 8, 0, 0, 0, 0, 1, 9, 0, 0, 0, 0, 0, 0,\n",
       "       7, 0, 4, 0, 0, 0, 0, 2, 7, 0, 6, 8, 0, 8, 0, 9, 1, 5, 0, 0, 2, 0,\n",
       "       5, 0, 6, 8, 3, 0, 9, 7, 0, 8, 0, 0, 0, 0, 4, 2, 0, 3, 0, 0, 0, 0,\n",
       "       8, 9, 0, 0, 0, 0, 7, 2, 4, 5, 6, 0, 0, 9, 0, 6, 3, 0, 4, 0, 0, 0,\n",
       "       0, 7, 3, 0, 1, 0, 2, 0, 0, 8, 5, 0, 0, 6, 2, 3, 4, 9, 0, 0, 4, 1,\n",
       "       2, 0, 0, 9, 8, 0, 0, 9, 0, 0, 3, 0, 6, 0, 6, 0, 0, 4, 0, 0, 1, 3,\n",
       "       0, 0, 0, 2, 1, 7, 0, 0, 0, 6, 0, 9, 0, 0, 0, 8, 0, 5, 3, 0, 4, 0,\n",
       "       3, 0, 0, 0, 1, 8, 0, 0, 0, 8, 0, 0, 6, 4, 0, 9, 8, 0, 0, 2, 7, 0,\n",
       "       0, 1, 0, 0, 3, 0, 9, 0, 0, 2, 7, 5, 0, 1, 9, 0, 0, 0, 7, 0, 0, 7,\n",
       "       0, 4, 5, 1, 9, 6, 0, 4, 2, 9, 0, 3, 0, 0, 0, 0, 8, 4, 0, 3, 6, 5,\n",
       "       2, 0, 9, 3, 1, 0, 7, 0, 0, 0, 0, 0, 6, 9, 0, 0, 2, 1, 8, 3, 7, 0,\n",
       "       0, 3, 0, 0, 0, 0, 0, 4, 0, 0, 0, 9, 5, 0, 7, 2, 0, 9, 0, 0, 0, 4,\n",
       "       2, 0, 0, 0, 2, 0, 0, 5, 0, 0, 0, 0, 0, 0, 0, 9, 0, 0, 6, 3, 4, 0,\n",
       "       7, 0, 6, 0, 0, 0, 1, 0, 2, 0, 0, 0, 9, 0, 0, 1, 5, 0, 9, 5, 8, 0,\n",
       "       3, 1, 7, 4, 0, 7, 0, 3, 5, 4, 2, 6, 8, 0, 3, 0, 1, 0, 0, 0, 0, 9,\n",
       "       4, 0, 6, 5, 0, 0, 4, 0, 0, 7, 0, 0, 0, 2, 0, 0, 0, 3, 0, 0, 3, 9,\n",
       "       7, 2, 0, 0, 0, 0, 6, 0, 0, 0, 0, 0, 0, 0, 5, 0, 0, 0, 0, 6, 3, 0,\n",
       "       7, 0, 8, 0, 3, 9, 4, 7, 0, 2, 1, 5, 4, 2, 6, 0, 3, 0, 7, 8, 0, 0,\n",
       "       0, 0, 5, 0, 0, 4, 6, 0, 0, 0, 0, 9, 0, 0, 3, 0, 3, 0, 6, 0, 0, 0,\n",
       "       7, 5, 0, 0, 1, 4, 7, 0, 0, 8, 0, 0, 0, 3, 5, 0, 8, 9, 0, 0, 0, 1,\n",
       "       0, 0, 0, 0, 0, 4, 0, 0, 0, 0, 0, 3, 0, 1, 0, 8, 0, 0, 9, 1, 5, 7,\n",
       "       3, 8, 2, 0, 0, 5, 2, 8, 0, 6, 9, 4, 7, 0, 7, 6, 0, 4, 0, 0, 0, 0,\n",
       "       0, 8, 0, 0, 3, 0, 0, 0, 0, 2, 0, 0, 0, 0, 5, 7, 0, 1, 5, 4, 0, 0,\n",
       "       0, 0, 6, 8, 0, 0, 0, 0, 3, 2, 0, 4, 0, 8, 0, 2, 0, 1, 0, 8, 0, 0,\n",
       "       0, 7, 0, 0, 0, 0, 0, 0, 1, 0, 0, 0, 6, 8, 5, 1, 0, 0, 0, 3, 4, 0,\n",
       "       9, 0, 6, 8, 0, 0, 0, 0, 0, 4, 7, 3, 2, 5, 6, 4, 0, 9, 6, 0, 0, 0,\n",
       "       3, 0, 0, 0, 0, 0, 0, 0, 5, 9, 8, 0, 0, 8, 2, 1, 0, 0, 6, 0, 0, 1,\n",
       "       0, 5, 6, 8, 4, 0, 0, 0, 0, 0, 3, 4, 0, 0, 0, 0, 0, 0, 0, 1, 9, 7,\n",
       "       6, 0, 3, 0, 3, 0, 0, 6, 2, 0, 7, 0, 2, 7, 6, 8, 1, 5, 0, 0, 9, 9,\n",
       "       0, 0, 0, 3, 0, 2, 5, 0, 0, 0, 0, 5, 8, 0, 0, 0, 7, 8, 0, 7, 0, 0,\n",
       "       0, 9, 0, 0, 0, 2, 4, 0, 0, 0, 0, 0, 0, 0, 4, 9, 6, 0, 0, 1, 3, 0,\n",
       "       6, 1, 0, 7, 4, 0, 5, 0, 0, 0, 0, 8, 2, 9, 0, 0, 6, 4, 0, 7, 0, 5,\n",
       "       3, 0, 9, 8, 0, 0, 0, 0, 6, 0, 0, 2, 5, 7, 5, 4, 0, 8, 2, 0, 6, 1,\n",
       "       0, 1, 5, 0, 4, 0, 0, 8, 0, 2, 3, 0, 6, 0, 0, 0, 7, 0, 0, 0, 0, 4,\n",
       "       0, 0, 3, 1, 0, 0, 4, 1, 5, 9, 0, 2, 3, 7, 0, 0, 6, 0, 0, 0, 0, 4,\n",
       "       0, 0, 0, 0, 8, 0, 7, 0, 0, 6, 0])"
      ]
     },
     "execution_count": 22,
     "metadata": {},
     "output_type": "execute_result"
    }
   ],
   "source": [
    "r = model.predict(x_train)\n",
    "r.argmax(axis=1)"
   ]
  },
  {
   "cell_type": "code",
   "execution_count": 23,
   "id": "2ca1eb1a",
   "metadata": {},
   "outputs": [
    {
     "name": "stdout",
     "output_type": "stream",
     "text": [
      "INFO:tensorflow:Assets written to: second.mod/assets\n"
     ]
    }
   ],
   "source": [
    "model.save(\"second.mod\")"
   ]
  }
 ],
 "metadata": {
  "kernelspec": {
   "display_name": "Python 3 (ipykernel)",
   "language": "python",
   "name": "python3"
  },
  "language_info": {
   "codemirror_mode": {
    "name": "ipython",
    "version": 3
   },
   "file_extension": ".py",
   "mimetype": "text/x-python",
   "name": "python",
   "nbconvert_exporter": "python",
   "pygments_lexer": "ipython3",
   "version": "3.10.8"
  }
 },
 "nbformat": 4,
 "nbformat_minor": 5
}
